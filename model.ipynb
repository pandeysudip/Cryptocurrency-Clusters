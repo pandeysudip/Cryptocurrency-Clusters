{
 "cells": [
  {
   "cell_type": "code",
   "execution_count": 55,
   "metadata": {},
   "outputs": [],
   "source": [
    "from sklearn.preprocessing import StandardScaler\n",
    "from sklearn.manifold import TSNE\n",
    "from sklearn.cluster import KMeans\n",
    "import pandas as pd\n",
    "import matplotlib.pyplot as plt\n",
    "from sklearn.decomposition import PCA"
   ]
  },
  {
   "cell_type": "code",
   "execution_count": 65,
   "metadata": {},
   "outputs": [],
   "source": [
    "crypto_df=pd.read_csv(\"Resources/crypto_data.csv\")"
   ]
  },
  {
   "cell_type": "code",
   "execution_count": 66,
   "metadata": {},
   "outputs": [
    {
     "data": {
      "text/html": [
       "<div>\n",
       "<style scoped>\n",
       "    .dataframe tbody tr th:only-of-type {\n",
       "        vertical-align: middle;\n",
       "    }\n",
       "\n",
       "    .dataframe tbody tr th {\n",
       "        vertical-align: top;\n",
       "    }\n",
       "\n",
       "    .dataframe thead th {\n",
       "        text-align: right;\n",
       "    }\n",
       "</style>\n",
       "<table border=\"1\" class=\"dataframe\">\n",
       "  <thead>\n",
       "    <tr style=\"text-align: right;\">\n",
       "      <th></th>\n",
       "      <th>Unnamed: 0</th>\n",
       "      <th>CoinName</th>\n",
       "      <th>Algorithm</th>\n",
       "      <th>IsTrading</th>\n",
       "      <th>ProofType</th>\n",
       "      <th>TotalCoinsMined</th>\n",
       "      <th>TotalCoinSupply</th>\n",
       "    </tr>\n",
       "  </thead>\n",
       "  <tbody>\n",
       "    <tr>\n",
       "      <th>0</th>\n",
       "      <td>42</td>\n",
       "      <td>42 Coin</td>\n",
       "      <td>Scrypt</td>\n",
       "      <td>True</td>\n",
       "      <td>PoW/PoS</td>\n",
       "      <td>4.199995e+01</td>\n",
       "      <td>42</td>\n",
       "    </tr>\n",
       "    <tr>\n",
       "      <th>1</th>\n",
       "      <td>365</td>\n",
       "      <td>365Coin</td>\n",
       "      <td>X11</td>\n",
       "      <td>True</td>\n",
       "      <td>PoW/PoS</td>\n",
       "      <td>NaN</td>\n",
       "      <td>2300000000</td>\n",
       "    </tr>\n",
       "    <tr>\n",
       "      <th>2</th>\n",
       "      <td>404</td>\n",
       "      <td>404Coin</td>\n",
       "      <td>Scrypt</td>\n",
       "      <td>True</td>\n",
       "      <td>PoW/PoS</td>\n",
       "      <td>1.055185e+09</td>\n",
       "      <td>532000000</td>\n",
       "    </tr>\n",
       "    <tr>\n",
       "      <th>3</th>\n",
       "      <td>611</td>\n",
       "      <td>SixEleven</td>\n",
       "      <td>SHA-256</td>\n",
       "      <td>True</td>\n",
       "      <td>PoW</td>\n",
       "      <td>NaN</td>\n",
       "      <td>611000</td>\n",
       "    </tr>\n",
       "    <tr>\n",
       "      <th>4</th>\n",
       "      <td>808</td>\n",
       "      <td>808</td>\n",
       "      <td>SHA-256</td>\n",
       "      <td>True</td>\n",
       "      <td>PoW/PoS</td>\n",
       "      <td>0.000000e+00</td>\n",
       "      <td>0</td>\n",
       "    </tr>\n",
       "    <tr>\n",
       "      <th>...</th>\n",
       "      <td>...</td>\n",
       "      <td>...</td>\n",
       "      <td>...</td>\n",
       "      <td>...</td>\n",
       "      <td>...</td>\n",
       "      <td>...</td>\n",
       "      <td>...</td>\n",
       "    </tr>\n",
       "    <tr>\n",
       "      <th>1247</th>\n",
       "      <td>XBC</td>\n",
       "      <td>BitcoinPlus</td>\n",
       "      <td>Scrypt</td>\n",
       "      <td>True</td>\n",
       "      <td>PoS</td>\n",
       "      <td>1.283270e+05</td>\n",
       "      <td>1000000</td>\n",
       "    </tr>\n",
       "    <tr>\n",
       "      <th>1248</th>\n",
       "      <td>DVTC</td>\n",
       "      <td>DivotyCoin</td>\n",
       "      <td>Scrypt</td>\n",
       "      <td>False</td>\n",
       "      <td>PoW/PoS</td>\n",
       "      <td>2.149121e+07</td>\n",
       "      <td>100000000</td>\n",
       "    </tr>\n",
       "    <tr>\n",
       "      <th>1249</th>\n",
       "      <td>GIOT</td>\n",
       "      <td>Giotto Coin</td>\n",
       "      <td>Scrypt</td>\n",
       "      <td>False</td>\n",
       "      <td>PoW/PoS</td>\n",
       "      <td>NaN</td>\n",
       "      <td>233100000</td>\n",
       "    </tr>\n",
       "    <tr>\n",
       "      <th>1250</th>\n",
       "      <td>OPSC</td>\n",
       "      <td>OpenSourceCoin</td>\n",
       "      <td>SHA-256</td>\n",
       "      <td>False</td>\n",
       "      <td>PoW/PoS</td>\n",
       "      <td>NaN</td>\n",
       "      <td>21000000</td>\n",
       "    </tr>\n",
       "    <tr>\n",
       "      <th>1251</th>\n",
       "      <td>PUNK</td>\n",
       "      <td>SteamPunk</td>\n",
       "      <td>PoS</td>\n",
       "      <td>False</td>\n",
       "      <td>PoS</td>\n",
       "      <td>NaN</td>\n",
       "      <td>40000000</td>\n",
       "    </tr>\n",
       "  </tbody>\n",
       "</table>\n",
       "<p>1252 rows × 7 columns</p>\n",
       "</div>"
      ],
      "text/plain": [
       "     Unnamed: 0        CoinName Algorithm  IsTrading ProofType  \\\n",
       "0            42         42 Coin    Scrypt       True   PoW/PoS   \n",
       "1           365         365Coin       X11       True   PoW/PoS   \n",
       "2           404         404Coin    Scrypt       True   PoW/PoS   \n",
       "3           611       SixEleven   SHA-256       True       PoW   \n",
       "4           808             808   SHA-256       True   PoW/PoS   \n",
       "...         ...             ...       ...        ...       ...   \n",
       "1247        XBC     BitcoinPlus    Scrypt       True       PoS   \n",
       "1248       DVTC      DivotyCoin    Scrypt      False   PoW/PoS   \n",
       "1249       GIOT     Giotto Coin    Scrypt      False   PoW/PoS   \n",
       "1250       OPSC  OpenSourceCoin   SHA-256      False   PoW/PoS   \n",
       "1251       PUNK       SteamPunk       PoS      False       PoS   \n",
       "\n",
       "      TotalCoinsMined TotalCoinSupply  \n",
       "0        4.199995e+01              42  \n",
       "1                 NaN      2300000000  \n",
       "2        1.055185e+09       532000000  \n",
       "3                 NaN          611000  \n",
       "4        0.000000e+00               0  \n",
       "...               ...             ...  \n",
       "1247     1.283270e+05         1000000  \n",
       "1248     2.149121e+07       100000000  \n",
       "1249              NaN       233100000  \n",
       "1250              NaN        21000000  \n",
       "1251              NaN        40000000  \n",
       "\n",
       "[1252 rows x 7 columns]"
      ]
     },
     "execution_count": 66,
     "metadata": {},
     "output_type": "execute_result"
    }
   ],
   "source": [
    "crypto_df"
   ]
  },
  {
   "cell_type": "code",
   "execution_count": 68,
   "metadata": {},
   "outputs": [
    {
     "data": {
      "text/plain": [
       "0             92\n",
       "21000000      64\n",
       "100000000     62\n",
       "1000000000    43\n",
       "50000000      23\n",
       "              ..\n",
       "39200000       1\n",
       "270875968      1\n",
       "9736000        1\n",
       "3652422000     1\n",
       "233100000      1\n",
       "Name: TotalCoinSupply, Length: 546, dtype: int64"
      ]
     },
     "execution_count": 68,
     "metadata": {},
     "output_type": "execute_result"
    }
   ],
   "source": [
    "crypto_df['TotalCoinSupply'].value_counts()"
   ]
  },
  {
   "cell_type": "code",
   "execution_count": 27,
   "metadata": {},
   "outputs": [
    {
     "data": {
      "text/html": [
       "<div>\n",
       "<style scoped>\n",
       "    .dataframe tbody tr th:only-of-type {\n",
       "        vertical-align: middle;\n",
       "    }\n",
       "\n",
       "    .dataframe tbody tr th {\n",
       "        vertical-align: top;\n",
       "    }\n",
       "\n",
       "    .dataframe thead th {\n",
       "        text-align: right;\n",
       "    }\n",
       "</style>\n",
       "<table border=\"1\" class=\"dataframe\">\n",
       "  <thead>\n",
       "    <tr style=\"text-align: right;\">\n",
       "      <th></th>\n",
       "      <th>Unnamed: 0</th>\n",
       "      <th>CoinName</th>\n",
       "      <th>Algorithm</th>\n",
       "      <th>IsTrading</th>\n",
       "      <th>ProofType</th>\n",
       "      <th>TotalCoinsMined</th>\n",
       "      <th>TotalCoinSupply</th>\n",
       "    </tr>\n",
       "  </thead>\n",
       "  <tbody>\n",
       "    <tr>\n",
       "      <th>0</th>\n",
       "      <td>42</td>\n",
       "      <td>42 Coin</td>\n",
       "      <td>Scrypt</td>\n",
       "      <td>True</td>\n",
       "      <td>PoW/PoS</td>\n",
       "      <td>4.199995e+01</td>\n",
       "      <td>42</td>\n",
       "    </tr>\n",
       "    <tr>\n",
       "      <th>1</th>\n",
       "      <td>365</td>\n",
       "      <td>365Coin</td>\n",
       "      <td>X11</td>\n",
       "      <td>True</td>\n",
       "      <td>PoW/PoS</td>\n",
       "      <td>NaN</td>\n",
       "      <td>2300000000</td>\n",
       "    </tr>\n",
       "    <tr>\n",
       "      <th>2</th>\n",
       "      <td>404</td>\n",
       "      <td>404Coin</td>\n",
       "      <td>Scrypt</td>\n",
       "      <td>True</td>\n",
       "      <td>PoW/PoS</td>\n",
       "      <td>1.055185e+09</td>\n",
       "      <td>532000000</td>\n",
       "    </tr>\n",
       "    <tr>\n",
       "      <th>3</th>\n",
       "      <td>611</td>\n",
       "      <td>SixEleven</td>\n",
       "      <td>SHA-256</td>\n",
       "      <td>True</td>\n",
       "      <td>PoW</td>\n",
       "      <td>NaN</td>\n",
       "      <td>611000</td>\n",
       "    </tr>\n",
       "    <tr>\n",
       "      <th>4</th>\n",
       "      <td>808</td>\n",
       "      <td>808</td>\n",
       "      <td>SHA-256</td>\n",
       "      <td>True</td>\n",
       "      <td>PoW/PoS</td>\n",
       "      <td>0.000000e+00</td>\n",
       "      <td>0</td>\n",
       "    </tr>\n",
       "    <tr>\n",
       "      <th>...</th>\n",
       "      <td>...</td>\n",
       "      <td>...</td>\n",
       "      <td>...</td>\n",
       "      <td>...</td>\n",
       "      <td>...</td>\n",
       "      <td>...</td>\n",
       "      <td>...</td>\n",
       "    </tr>\n",
       "    <tr>\n",
       "      <th>1243</th>\n",
       "      <td>SERO</td>\n",
       "      <td>Super Zero</td>\n",
       "      <td>Ethash</td>\n",
       "      <td>True</td>\n",
       "      <td>PoW</td>\n",
       "      <td>NaN</td>\n",
       "      <td>1000000000</td>\n",
       "    </tr>\n",
       "    <tr>\n",
       "      <th>1244</th>\n",
       "      <td>UOS</td>\n",
       "      <td>UOS</td>\n",
       "      <td>SHA-256</td>\n",
       "      <td>True</td>\n",
       "      <td>DPoI</td>\n",
       "      <td>NaN</td>\n",
       "      <td>1000000000</td>\n",
       "    </tr>\n",
       "    <tr>\n",
       "      <th>1245</th>\n",
       "      <td>BDX</td>\n",
       "      <td>Beldex</td>\n",
       "      <td>CryptoNight</td>\n",
       "      <td>True</td>\n",
       "      <td>PoW</td>\n",
       "      <td>9.802226e+08</td>\n",
       "      <td>1400222610</td>\n",
       "    </tr>\n",
       "    <tr>\n",
       "      <th>1246</th>\n",
       "      <td>ZEN</td>\n",
       "      <td>Horizen</td>\n",
       "      <td>Equihash</td>\n",
       "      <td>True</td>\n",
       "      <td>PoW</td>\n",
       "      <td>7.296538e+06</td>\n",
       "      <td>21000000</td>\n",
       "    </tr>\n",
       "    <tr>\n",
       "      <th>1247</th>\n",
       "      <td>XBC</td>\n",
       "      <td>BitcoinPlus</td>\n",
       "      <td>Scrypt</td>\n",
       "      <td>True</td>\n",
       "      <td>PoS</td>\n",
       "      <td>1.283270e+05</td>\n",
       "      <td>1000000</td>\n",
       "    </tr>\n",
       "  </tbody>\n",
       "</table>\n",
       "<p>1144 rows × 7 columns</p>\n",
       "</div>"
      ],
      "text/plain": [
       "     Unnamed: 0     CoinName    Algorithm  IsTrading ProofType  \\\n",
       "0            42      42 Coin       Scrypt       True   PoW/PoS   \n",
       "1           365      365Coin          X11       True   PoW/PoS   \n",
       "2           404      404Coin       Scrypt       True   PoW/PoS   \n",
       "3           611    SixEleven      SHA-256       True       PoW   \n",
       "4           808          808      SHA-256       True   PoW/PoS   \n",
       "...         ...          ...          ...        ...       ...   \n",
       "1243       SERO   Super Zero       Ethash       True       PoW   \n",
       "1244        UOS          UOS      SHA-256       True      DPoI   \n",
       "1245        BDX       Beldex  CryptoNight       True       PoW   \n",
       "1246        ZEN      Horizen     Equihash       True       PoW   \n",
       "1247        XBC  BitcoinPlus       Scrypt       True       PoS   \n",
       "\n",
       "      TotalCoinsMined TotalCoinSupply  \n",
       "0        4.199995e+01              42  \n",
       "1                 NaN      2300000000  \n",
       "2        1.055185e+09       532000000  \n",
       "3                 NaN          611000  \n",
       "4        0.000000e+00               0  \n",
       "...               ...             ...  \n",
       "1243              NaN      1000000000  \n",
       "1244              NaN      1000000000  \n",
       "1245     9.802226e+08      1400222610  \n",
       "1246     7.296538e+06        21000000  \n",
       "1247     1.283270e+05         1000000  \n",
       "\n",
       "[1144 rows x 7 columns]"
      ]
     },
     "execution_count": 27,
     "metadata": {},
     "output_type": "execute_result"
    }
   ],
   "source": [
    "crypto_df=crypto_df[crypto_df['IsTrading']==True]\n",
    "crypto_df"
   ]
  },
  {
   "cell_type": "code",
   "execution_count": 28,
   "metadata": {},
   "outputs": [
    {
     "name": "stderr",
     "output_type": "stream",
     "text": [
      "/Users/sudippandey/opt/anaconda3/lib/python3.8/site-packages/pandas/core/frame.py:4901: SettingWithCopyWarning: \n",
      "A value is trying to be set on a copy of a slice from a DataFrame\n",
      "\n",
      "See the caveats in the documentation: https://pandas.pydata.org/pandas-docs/stable/user_guide/indexing.html#returning-a-view-versus-a-copy\n",
      "  return super().drop(\n"
     ]
    }
   ],
   "source": [
    "crypto_df.drop('IsTrading', axis=1, inplace=True)"
   ]
  },
  {
   "cell_type": "code",
   "execution_count": 30,
   "metadata": {},
   "outputs": [
    {
     "data": {
      "text/html": [
       "<div>\n",
       "<style scoped>\n",
       "    .dataframe tbody tr th:only-of-type {\n",
       "        vertical-align: middle;\n",
       "    }\n",
       "\n",
       "    .dataframe tbody tr th {\n",
       "        vertical-align: top;\n",
       "    }\n",
       "\n",
       "    .dataframe thead th {\n",
       "        text-align: right;\n",
       "    }\n",
       "</style>\n",
       "<table border=\"1\" class=\"dataframe\">\n",
       "  <thead>\n",
       "    <tr style=\"text-align: right;\">\n",
       "      <th></th>\n",
       "      <th>Unnamed: 0</th>\n",
       "      <th>CoinName</th>\n",
       "      <th>Algorithm</th>\n",
       "      <th>ProofType</th>\n",
       "      <th>TotalCoinsMined</th>\n",
       "      <th>TotalCoinSupply</th>\n",
       "    </tr>\n",
       "  </thead>\n",
       "  <tbody>\n",
       "    <tr>\n",
       "      <th>0</th>\n",
       "      <td>42</td>\n",
       "      <td>42 Coin</td>\n",
       "      <td>Scrypt</td>\n",
       "      <td>PoW/PoS</td>\n",
       "      <td>4.199995e+01</td>\n",
       "      <td>42</td>\n",
       "    </tr>\n",
       "    <tr>\n",
       "      <th>1</th>\n",
       "      <td>365</td>\n",
       "      <td>365Coin</td>\n",
       "      <td>X11</td>\n",
       "      <td>PoW/PoS</td>\n",
       "      <td>NaN</td>\n",
       "      <td>2300000000</td>\n",
       "    </tr>\n",
       "    <tr>\n",
       "      <th>2</th>\n",
       "      <td>404</td>\n",
       "      <td>404Coin</td>\n",
       "      <td>Scrypt</td>\n",
       "      <td>PoW/PoS</td>\n",
       "      <td>1.055185e+09</td>\n",
       "      <td>532000000</td>\n",
       "    </tr>\n",
       "    <tr>\n",
       "      <th>3</th>\n",
       "      <td>611</td>\n",
       "      <td>SixEleven</td>\n",
       "      <td>SHA-256</td>\n",
       "      <td>PoW</td>\n",
       "      <td>NaN</td>\n",
       "      <td>611000</td>\n",
       "    </tr>\n",
       "    <tr>\n",
       "      <th>4</th>\n",
       "      <td>808</td>\n",
       "      <td>808</td>\n",
       "      <td>SHA-256</td>\n",
       "      <td>PoW/PoS</td>\n",
       "      <td>0.000000e+00</td>\n",
       "      <td>0</td>\n",
       "    </tr>\n",
       "    <tr>\n",
       "      <th>...</th>\n",
       "      <td>...</td>\n",
       "      <td>...</td>\n",
       "      <td>...</td>\n",
       "      <td>...</td>\n",
       "      <td>...</td>\n",
       "      <td>...</td>\n",
       "    </tr>\n",
       "    <tr>\n",
       "      <th>1243</th>\n",
       "      <td>SERO</td>\n",
       "      <td>Super Zero</td>\n",
       "      <td>Ethash</td>\n",
       "      <td>PoW</td>\n",
       "      <td>NaN</td>\n",
       "      <td>1000000000</td>\n",
       "    </tr>\n",
       "    <tr>\n",
       "      <th>1244</th>\n",
       "      <td>UOS</td>\n",
       "      <td>UOS</td>\n",
       "      <td>SHA-256</td>\n",
       "      <td>DPoI</td>\n",
       "      <td>NaN</td>\n",
       "      <td>1000000000</td>\n",
       "    </tr>\n",
       "    <tr>\n",
       "      <th>1245</th>\n",
       "      <td>BDX</td>\n",
       "      <td>Beldex</td>\n",
       "      <td>CryptoNight</td>\n",
       "      <td>PoW</td>\n",
       "      <td>9.802226e+08</td>\n",
       "      <td>1400222610</td>\n",
       "    </tr>\n",
       "    <tr>\n",
       "      <th>1246</th>\n",
       "      <td>ZEN</td>\n",
       "      <td>Horizen</td>\n",
       "      <td>Equihash</td>\n",
       "      <td>PoW</td>\n",
       "      <td>7.296538e+06</td>\n",
       "      <td>21000000</td>\n",
       "    </tr>\n",
       "    <tr>\n",
       "      <th>1247</th>\n",
       "      <td>XBC</td>\n",
       "      <td>BitcoinPlus</td>\n",
       "      <td>Scrypt</td>\n",
       "      <td>PoS</td>\n",
       "      <td>1.283270e+05</td>\n",
       "      <td>1000000</td>\n",
       "    </tr>\n",
       "  </tbody>\n",
       "</table>\n",
       "<p>1144 rows × 6 columns</p>\n",
       "</div>"
      ],
      "text/plain": [
       "     Unnamed: 0     CoinName    Algorithm ProofType  TotalCoinsMined  \\\n",
       "0            42      42 Coin       Scrypt   PoW/PoS     4.199995e+01   \n",
       "1           365      365Coin          X11   PoW/PoS              NaN   \n",
       "2           404      404Coin       Scrypt   PoW/PoS     1.055185e+09   \n",
       "3           611    SixEleven      SHA-256       PoW              NaN   \n",
       "4           808          808      SHA-256   PoW/PoS     0.000000e+00   \n",
       "...         ...          ...          ...       ...              ...   \n",
       "1243       SERO   Super Zero       Ethash       PoW              NaN   \n",
       "1244        UOS          UOS      SHA-256      DPoI              NaN   \n",
       "1245        BDX       Beldex  CryptoNight       PoW     9.802226e+08   \n",
       "1246        ZEN      Horizen     Equihash       PoW     7.296538e+06   \n",
       "1247        XBC  BitcoinPlus       Scrypt       PoS     1.283270e+05   \n",
       "\n",
       "     TotalCoinSupply  \n",
       "0                 42  \n",
       "1         2300000000  \n",
       "2          532000000  \n",
       "3             611000  \n",
       "4                  0  \n",
       "...              ...  \n",
       "1243      1000000000  \n",
       "1244      1000000000  \n",
       "1245      1400222610  \n",
       "1246        21000000  \n",
       "1247         1000000  \n",
       "\n",
       "[1144 rows x 6 columns]"
      ]
     },
     "execution_count": 30,
     "metadata": {},
     "output_type": "execute_result"
    }
   ],
   "source": [
    "crypto_df"
   ]
  },
  {
   "cell_type": "code",
   "execution_count": 31,
   "metadata": {},
   "outputs": [
    {
     "data": {
      "text/plain": [
       "Unnamed: 0           0\n",
       "CoinName             0\n",
       "Algorithm            0\n",
       "ProofType            0\n",
       "TotalCoinsMined    459\n",
       "TotalCoinSupply      0\n",
       "dtype: int64"
      ]
     },
     "execution_count": 31,
     "metadata": {},
     "output_type": "execute_result"
    }
   ],
   "source": [
    "crypto_df.isna().sum()"
   ]
  },
  {
   "cell_type": "code",
   "execution_count": 32,
   "metadata": {},
   "outputs": [
    {
     "data": {
      "text/html": [
       "<div>\n",
       "<style scoped>\n",
       "    .dataframe tbody tr th:only-of-type {\n",
       "        vertical-align: middle;\n",
       "    }\n",
       "\n",
       "    .dataframe tbody tr th {\n",
       "        vertical-align: top;\n",
       "    }\n",
       "\n",
       "    .dataframe thead th {\n",
       "        text-align: right;\n",
       "    }\n",
       "</style>\n",
       "<table border=\"1\" class=\"dataframe\">\n",
       "  <thead>\n",
       "    <tr style=\"text-align: right;\">\n",
       "      <th></th>\n",
       "      <th>Unnamed: 0</th>\n",
       "      <th>CoinName</th>\n",
       "      <th>Algorithm</th>\n",
       "      <th>ProofType</th>\n",
       "      <th>TotalCoinsMined</th>\n",
       "      <th>TotalCoinSupply</th>\n",
       "    </tr>\n",
       "  </thead>\n",
       "  <tbody>\n",
       "    <tr>\n",
       "      <th>0</th>\n",
       "      <td>42</td>\n",
       "      <td>42 Coin</td>\n",
       "      <td>Scrypt</td>\n",
       "      <td>PoW/PoS</td>\n",
       "      <td>4.199995e+01</td>\n",
       "      <td>42</td>\n",
       "    </tr>\n",
       "    <tr>\n",
       "      <th>2</th>\n",
       "      <td>404</td>\n",
       "      <td>404Coin</td>\n",
       "      <td>Scrypt</td>\n",
       "      <td>PoW/PoS</td>\n",
       "      <td>1.055185e+09</td>\n",
       "      <td>532000000</td>\n",
       "    </tr>\n",
       "    <tr>\n",
       "      <th>5</th>\n",
       "      <td>1337</td>\n",
       "      <td>EliteCoin</td>\n",
       "      <td>X13</td>\n",
       "      <td>PoW/PoS</td>\n",
       "      <td>2.927942e+10</td>\n",
       "      <td>314159265359</td>\n",
       "    </tr>\n",
       "    <tr>\n",
       "      <th>7</th>\n",
       "      <td>BTC</td>\n",
       "      <td>Bitcoin</td>\n",
       "      <td>SHA-256</td>\n",
       "      <td>PoW</td>\n",
       "      <td>1.792718e+07</td>\n",
       "      <td>21000000</td>\n",
       "    </tr>\n",
       "    <tr>\n",
       "      <th>8</th>\n",
       "      <td>ETH</td>\n",
       "      <td>Ethereum</td>\n",
       "      <td>Ethash</td>\n",
       "      <td>PoW</td>\n",
       "      <td>1.076842e+08</td>\n",
       "      <td>0</td>\n",
       "    </tr>\n",
       "    <tr>\n",
       "      <th>...</th>\n",
       "      <td>...</td>\n",
       "      <td>...</td>\n",
       "      <td>...</td>\n",
       "      <td>...</td>\n",
       "      <td>...</td>\n",
       "      <td>...</td>\n",
       "    </tr>\n",
       "    <tr>\n",
       "      <th>1238</th>\n",
       "      <td>ZEPH</td>\n",
       "      <td>ZEPHYR</td>\n",
       "      <td>SHA-256</td>\n",
       "      <td>DPoS</td>\n",
       "      <td>2.000000e+09</td>\n",
       "      <td>2000000000</td>\n",
       "    </tr>\n",
       "    <tr>\n",
       "      <th>1242</th>\n",
       "      <td>GAP</td>\n",
       "      <td>Gapcoin</td>\n",
       "      <td>Scrypt</td>\n",
       "      <td>PoW/PoS</td>\n",
       "      <td>1.493105e+07</td>\n",
       "      <td>250000000</td>\n",
       "    </tr>\n",
       "    <tr>\n",
       "      <th>1245</th>\n",
       "      <td>BDX</td>\n",
       "      <td>Beldex</td>\n",
       "      <td>CryptoNight</td>\n",
       "      <td>PoW</td>\n",
       "      <td>9.802226e+08</td>\n",
       "      <td>1400222610</td>\n",
       "    </tr>\n",
       "    <tr>\n",
       "      <th>1246</th>\n",
       "      <td>ZEN</td>\n",
       "      <td>Horizen</td>\n",
       "      <td>Equihash</td>\n",
       "      <td>PoW</td>\n",
       "      <td>7.296538e+06</td>\n",
       "      <td>21000000</td>\n",
       "    </tr>\n",
       "    <tr>\n",
       "      <th>1247</th>\n",
       "      <td>XBC</td>\n",
       "      <td>BitcoinPlus</td>\n",
       "      <td>Scrypt</td>\n",
       "      <td>PoS</td>\n",
       "      <td>1.283270e+05</td>\n",
       "      <td>1000000</td>\n",
       "    </tr>\n",
       "  </tbody>\n",
       "</table>\n",
       "<p>532 rows × 6 columns</p>\n",
       "</div>"
      ],
      "text/plain": [
       "     Unnamed: 0     CoinName    Algorithm ProofType  TotalCoinsMined  \\\n",
       "0            42      42 Coin       Scrypt   PoW/PoS     4.199995e+01   \n",
       "2           404      404Coin       Scrypt   PoW/PoS     1.055185e+09   \n",
       "5          1337    EliteCoin          X13   PoW/PoS     2.927942e+10   \n",
       "7           BTC      Bitcoin      SHA-256       PoW     1.792718e+07   \n",
       "8           ETH     Ethereum       Ethash       PoW     1.076842e+08   \n",
       "...         ...          ...          ...       ...              ...   \n",
       "1238       ZEPH       ZEPHYR      SHA-256      DPoS     2.000000e+09   \n",
       "1242        GAP      Gapcoin       Scrypt   PoW/PoS     1.493105e+07   \n",
       "1245        BDX       Beldex  CryptoNight       PoW     9.802226e+08   \n",
       "1246        ZEN      Horizen     Equihash       PoW     7.296538e+06   \n",
       "1247        XBC  BitcoinPlus       Scrypt       PoS     1.283270e+05   \n",
       "\n",
       "     TotalCoinSupply  \n",
       "0                 42  \n",
       "2          532000000  \n",
       "5       314159265359  \n",
       "7           21000000  \n",
       "8                  0  \n",
       "...              ...  \n",
       "1238      2000000000  \n",
       "1242       250000000  \n",
       "1245      1400222610  \n",
       "1246        21000000  \n",
       "1247         1000000  \n",
       "\n",
       "[532 rows x 6 columns]"
      ]
     },
     "execution_count": 32,
     "metadata": {},
     "output_type": "execute_result"
    }
   ],
   "source": [
    "crypto_df=crypto_df[crypto_df['TotalCoinsMined']>0]\n",
    "crypto_df"
   ]
  },
  {
   "cell_type": "code",
   "execution_count": 33,
   "metadata": {},
   "outputs": [
    {
     "data": {
      "text/plain": [
       "Unnamed: 0         0\n",
       "CoinName           0\n",
       "Algorithm          0\n",
       "ProofType          0\n",
       "TotalCoinsMined    0\n",
       "TotalCoinSupply    0\n",
       "dtype: int64"
      ]
     },
     "execution_count": 33,
     "metadata": {},
     "output_type": "execute_result"
    }
   ],
   "source": [
    "crypto_df.isna().sum()"
   ]
  },
  {
   "cell_type": "code",
   "execution_count": 34,
   "metadata": {},
   "outputs": [
    {
     "name": "stderr",
     "output_type": "stream",
     "text": [
      "/Users/sudippandey/opt/anaconda3/lib/python3.8/site-packages/pandas/core/frame.py:4901: SettingWithCopyWarning: \n",
      "A value is trying to be set on a copy of a slice from a DataFrame\n",
      "\n",
      "See the caveats in the documentation: https://pandas.pydata.org/pandas-docs/stable/user_guide/indexing.html#returning-a-view-versus-a-copy\n",
      "  return super().drop(\n"
     ]
    }
   ],
   "source": [
    "crypto_df.drop(['CoinName','Unnamed: 0'], axis=1, inplace=True)"
   ]
  },
  {
   "cell_type": "code",
   "execution_count": 38,
   "metadata": {},
   "outputs": [],
   "source": [
    "final_df=pd.get_dummies(crypto_df)"
   ]
  },
  {
   "cell_type": "code",
   "execution_count": 41,
   "metadata": {},
   "outputs": [
    {
     "data": {
      "text/plain": [
       "(532, 377)"
      ]
     },
     "execution_count": 41,
     "metadata": {},
     "output_type": "execute_result"
    }
   ],
   "source": [
    "std_scr=StandardScaler()\n",
    "scaled_data=std_scr.fit_transform(final_df)\n",
    "scaled_data.shape"
   ]
  },
  {
   "cell_type": "code",
   "execution_count": 45,
   "metadata": {},
   "outputs": [
    {
     "data": {
      "text/plain": [
       "(532, 274)"
      ]
     },
     "execution_count": 45,
     "metadata": {},
     "output_type": "execute_result"
    }
   ],
   "source": [
    "pca=PCA(n_components=0.90)\n",
    "pca_data=pca.fit_transform(scaled_data)\n",
    "pca_data.shape"
   ]
  },
  {
   "cell_type": "code",
   "execution_count": 70,
   "metadata": {},
   "outputs": [
    {
     "data": {
      "text/plain": [
       "array([0.00839215, 0.00799006, 0.00797255, 0.00797255, 0.00794421,\n",
       "       0.00741891, 0.00696609, 0.00687449, 0.00656659, 0.0061131 ,\n",
       "       0.00588744, 0.00575784, 0.00569   , 0.00555906, 0.00549437,\n",
       "       0.00532247, 0.00532026, 0.00531503, 0.00531503, 0.00531503,\n",
       "       0.00531503, 0.00531503, 0.00531503, 0.00531488, 0.00531089,\n",
       "       0.00527432, 0.00523105, 0.00521782, 0.00508932, 0.00501107,\n",
       "       0.00498244, 0.00496689, 0.0049616 , 0.00491607, 0.00487546,\n",
       "       0.00485005, 0.00483744, 0.00482475, 0.00478222, 0.00475574,\n",
       "       0.00466862, 0.00465538, 0.00462004, 0.00460902, 0.0045821 ,\n",
       "       0.0045637 , 0.00456113, 0.00454578, 0.00454094, 0.00453147,\n",
       "       0.00448855, 0.00447791, 0.00446873, 0.00440764, 0.00439661,\n",
       "       0.00427716, 0.00424332, 0.00418783, 0.00405474, 0.00401174,\n",
       "       0.00393489, 0.00380768, 0.00379098, 0.00377029, 0.00374979,\n",
       "       0.00364987, 0.00358469, 0.00355848, 0.00349388, 0.00344452,\n",
       "       0.00340763, 0.00316666, 0.00298865, 0.00276281, 0.0027046 ,\n",
       "       0.00269951, 0.00269007, 0.00268435, 0.00267694, 0.00267639,\n",
       "       0.0026762 , 0.00267514, 0.00267379, 0.0026727 , 0.00267193,\n",
       "       0.00267105, 0.00267104, 0.00266748, 0.00266729, 0.00266687,\n",
       "       0.00266672, 0.00266619, 0.0026657 , 0.0026655 , 0.0026649 ,\n",
       "       0.00266471, 0.00266253, 0.00266253, 0.00266253, 0.00266253,\n",
       "       0.00266253, 0.00266253, 0.00266253, 0.00266253, 0.00266253,\n",
       "       0.00266245, 0.00266239, 0.0026622 , 0.00266214, 0.00266205,\n",
       "       0.00266202, 0.00266192, 0.00266174, 0.00266158, 0.00266143,\n",
       "       0.00266129, 0.00266076, 0.00266065, 0.00266053, 0.00266039,\n",
       "       0.00266032, 0.00265996, 0.00265956, 0.00265752, 0.00265752,\n",
       "       0.00265752, 0.00265752, 0.00265752, 0.00265752, 0.00265752,\n",
       "       0.00265752, 0.00265752, 0.00265752, 0.00265752, 0.00265752,\n",
       "       0.00265752, 0.00265752, 0.00265752, 0.00265752, 0.00265752,\n",
       "       0.00265752, 0.00265752, 0.00265752, 0.00265752, 0.00265752,\n",
       "       0.00265752, 0.00265752, 0.00265752, 0.00265752, 0.00265752,\n",
       "       0.00265752, 0.00265752, 0.00265752, 0.00265752, 0.00265752,\n",
       "       0.00265752, 0.00265752, 0.00265752, 0.00265752, 0.00265752,\n",
       "       0.00265752, 0.00265752, 0.00265752, 0.00265752, 0.00265752,\n",
       "       0.00265752, 0.00265752, 0.00265752, 0.00265752, 0.00265752,\n",
       "       0.00265752, 0.00265752, 0.00265752, 0.00265752, 0.00265752,\n",
       "       0.00265752, 0.00265752, 0.00265752, 0.00265752, 0.00265752,\n",
       "       0.00265752, 0.00265752, 0.00265752, 0.00265752, 0.00265752,\n",
       "       0.00265752, 0.00265752, 0.00265752, 0.00265752, 0.00265752,\n",
       "       0.00265752, 0.00265752, 0.00265752, 0.00265752, 0.00265752,\n",
       "       0.00265752, 0.00265752, 0.00265752, 0.00265752, 0.00265752,\n",
       "       0.00265752, 0.00265752, 0.00265752, 0.00265752, 0.00265752,\n",
       "       0.00265752, 0.00265752, 0.00265752, 0.00265752, 0.00265752,\n",
       "       0.00265752, 0.00265752, 0.00265752, 0.00265752, 0.00265752,\n",
       "       0.00265752, 0.00265752, 0.00265752, 0.00265752, 0.00265752,\n",
       "       0.00265752, 0.00265752, 0.00265752, 0.00265752, 0.00265752,\n",
       "       0.00265752, 0.00265752, 0.00265752, 0.00265752, 0.00265752,\n",
       "       0.00265752, 0.00265752, 0.00265752, 0.00265752, 0.00265752,\n",
       "       0.00265752, 0.00265752, 0.00265752, 0.00265752, 0.00265752,\n",
       "       0.00265752, 0.00265752, 0.00265752, 0.00265752, 0.00265752,\n",
       "       0.00265752, 0.00265752, 0.00265752, 0.00265752, 0.00265752,\n",
       "       0.00265752, 0.00265752, 0.00265752, 0.00265752, 0.00265752,\n",
       "       0.00265752, 0.00265752, 0.00265752, 0.00265752, 0.00265752,\n",
       "       0.00265752, 0.00265752, 0.00265752, 0.00265752, 0.00265752,\n",
       "       0.00265752, 0.00265752, 0.00265752, 0.00265752, 0.00265752,\n",
       "       0.00265752, 0.00265752, 0.00265752, 0.00265752])"
      ]
     },
     "execution_count": 70,
     "metadata": {},
     "output_type": "execute_result"
    }
   ],
   "source": [
    "pca.explained_variance_ratio_"
   ]
  },
  {
   "cell_type": "code",
   "execution_count": 46,
   "metadata": {},
   "outputs": [],
   "source": [
    "# YOUR CODE HERE\n",
    "tsne=TSNE(learning_rate=35)"
   ]
  },
  {
   "cell_type": "code",
   "execution_count": 47,
   "metadata": {},
   "outputs": [],
   "source": [
    "tsne_features=tsne.fit_transform(pca_data)"
   ]
  },
  {
   "cell_type": "code",
   "execution_count": 48,
   "metadata": {},
   "outputs": [
    {
     "data": {
      "text/plain": [
       "(532, 2)"
      ]
     },
     "execution_count": 48,
     "metadata": {},
     "output_type": "execute_result"
    }
   ],
   "source": [
    "tsne_features.shape"
   ]
  },
  {
   "cell_type": "code",
   "execution_count": 49,
   "metadata": {},
   "outputs": [],
   "source": [
    "x=tsne_features[:,0]\n",
    "y=tsne_features[:,1]"
   ]
  },
  {
   "cell_type": "code",
   "execution_count": 53,
   "metadata": {},
   "outputs": [
    {
     "data": {
      "image/png": "[encoded data removed]",
      "text/plain": [
       "<Figure size 432x288 with 1 Axes>"
      ]
     },
     "metadata": {
      "needs_background": "light"
     },
     "output_type": "display_data"
    }
   ],
   "source": [
    "import matplotlib.pyplot as plt\n",
    "plt.scatter(x,y)\n",
    "plt.show()"
   ]
  },
  {
   "cell_type": "code",
   "execution_count": 62,
   "metadata": {},
   "outputs": [
    {
     "data": {
      "text/plain": [
       "[<matplotlib.lines.Line2D at 0x7fd9140dcd30>]"
      ]
     },
     "execution_count": 62,
     "metadata": {},
     "output_type": "execute_result"
    },
    {
     "data": {
      "image/png": "[encoded data removed]",
      "text/plain": [
       "<Figure size 432x288 with 1 Axes>"
      ]
     },
     "metadata": {
      "needs_background": "light"
     },
     "output_type": "display_data"
    }
   ],
   "source": [
    "inertia=[]\n",
    "for k in range(1,10):\n",
    "    model=KMeans(n_clusters=k)\n",
    "    model.fit(tsne_features)\n",
    "    inertia.append(model.inertia_)\n",
    "plt.plot(range(1,10), inertia)"
   ]
  },
  {
   "cell_type": "code",
   "execution_count": 63,
   "metadata": {},
   "outputs": [
    {
     "data": {
      "text/plain": [
       "KMeans(n_clusters=6)"
      ]
     },
     "execution_count": 63,
     "metadata": {},
     "output_type": "execute_result"
    }
   ],
   "source": [
    "# Identify the best number of clusters using the elbow curve\n",
    "model=KMeans(n_clusters=6)\n",
    "model.fit(tsne_features)"
   ]
  },
  {
   "cell_type": "code",
   "execution_count": 64,
   "metadata": {},
   "outputs": [
    {
     "data": {
      "text/plain": [
       "array([5, 5, 1, 5, 0, 0, 4, 1, 0, 2, 5, 2, 4, 2, 5, 2, 0, 2, 5, 5, 1, 5,\n",
       "       5, 2, 5, 5, 1, 0, 5, 5, 2, 0, 5, 1, 5, 0, 1, 2, 5, 2, 5, 5, 1, 1,\n",
       "       5, 2, 5, 2, 5, 1, 5, 5, 4, 5, 2, 0, 5, 1, 4, 1, 5, 4, 5, 5, 1, 5,\n",
       "       5, 5, 1, 5, 0, 5, 5, 5, 2, 5, 5, 5, 5, 1, 5, 0, 4, 4, 4, 5, 5, 5,\n",
       "       5, 0, 1, 0, 2, 1, 1, 2, 1, 5, 2, 4, 5, 0, 5, 5, 0, 5, 5, 5, 1, 2,\n",
       "       0, 2, 5, 4, 5, 1, 0, 1, 1, 5, 0, 4, 5, 5, 5, 2, 5, 1, 4, 2, 2, 0,\n",
       "       5, 1, 5, 2, 5, 0, 0, 1, 5, 5, 5, 5, 2, 0, 5, 4, 5, 0, 2, 2, 5, 4,\n",
       "       5, 0, 1, 5, 0, 1, 1, 4, 3, 0, 0, 4, 5, 5, 5, 0, 5, 5, 1, 1, 5, 5,\n",
       "       1, 4, 5, 1, 0, 0, 4, 5, 5, 4, 5, 1, 5, 1, 5, 5, 4, 1, 2, 1, 5, 5,\n",
       "       0, 1, 1, 5, 1, 2, 0, 2, 1, 1, 4, 5, 1, 5, 0, 5, 4, 5, 0, 0, 0, 4,\n",
       "       1, 5, 0, 4, 2, 4, 5, 5, 5, 1, 1, 4, 4, 2, 0, 5, 5, 0, 5, 5, 1, 1,\n",
       "       5, 5, 1, 5, 2, 5, 5, 2, 5, 5, 5, 4, 5, 2, 1, 5, 0, 1, 0, 5, 5, 5,\n",
       "       5, 4, 5, 1, 5, 1, 1, 4, 5, 5, 1, 1, 0, 1, 1, 1, 1, 4, 5, 1, 1, 5,\n",
       "       1, 5, 0, 5, 0, 2, 1, 5, 5, 2, 3, 4, 1, 5, 5, 1, 3, 2, 1, 5, 0, 0,\n",
       "       5, 5, 0, 5, 2, 3, 5, 4, 2, 1, 5, 5, 4, 0, 2, 0, 5, 1, 0, 1, 5, 1,\n",
       "       5, 2, 5, 5, 2, 2, 0, 5, 4, 1, 5, 0, 1, 0, 2, 2, 4, 5, 0, 5, 1, 0,\n",
       "       2, 5, 0, 2, 5, 5, 1, 5, 2, 3, 5, 5, 0, 2, 0, 1, 0, 1, 2, 5, 5, 2,\n",
       "       4, 1, 4, 1, 5, 5, 4, 5, 5, 0, 2, 4, 0, 5, 2, 0, 2, 5, 4, 0, 4, 4,\n",
       "       2, 0, 4, 2, 1, 1, 5, 5, 1, 4, 2, 2, 5, 5, 2, 1, 1, 5, 2, 2, 2, 2,\n",
       "       5, 5, 5, 2, 2, 0, 0, 2, 1, 2, 1, 4, 2, 5, 4, 1, 1, 5, 0, 1, 5, 5,\n",
       "       1, 5, 0, 2, 1, 0, 5, 0, 2, 2, 5, 4, 5, 2, 4, 5, 2, 0, 0, 5, 0, 5,\n",
       "       2, 2, 2, 5, 1, 2, 1, 5, 2, 1, 2, 1, 5, 1, 5, 0, 0, 2, 0, 2, 1, 5,\n",
       "       1, 1, 5, 5, 5, 2, 1, 3, 5, 5, 5, 0, 5, 2, 5, 5, 4, 1, 0, 1, 1, 5,\n",
       "       2, 1, 4, 5, 5, 1, 1, 5, 4, 5, 1, 1, 2, 1, 0, 1, 5, 5, 1, 1, 5, 1,\n",
       "       2, 2, 2, 0], dtype=int32)"
      ]
     },
     "execution_count": 64,
     "metadata": {},
     "output_type": "execute_result"
    }
   ],
   "source": [
    "model.predict(tsne_features)"
   ]
  },
  {
   "cell_type": "code",
   "execution_count": null,
   "metadata": {},
   "outputs": [],
   "source": []
  }
 ],
 "metadata": {
  "kernelspec": {
   "display_name": "Python 3 (ipykernel)",
   "language": "python",
   "name": "python3"
  },
  "language_info": {
   "codemirror_mode": {
    "name": "ipython",
    "version": 3
   },
   "file_extension": ".py",
   "mimetype": "text/x-python",
   "name": "python",
   "nbconvert_exporter": "python",
   "pygments_lexer": "ipython3",
   "version": "3.8.10"
  }
 },
 "nbformat": 4,
 "nbformat_minor": 4
}
